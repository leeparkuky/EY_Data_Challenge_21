{
 "cells": [
  {
   "cell_type": "markdown",
   "id": "6facbd9d-011a-401c-a383-7e97c21dc484",
   "metadata": {},
   "source": [
    "# Rotating and Cutoff of Linescan Images"
   ]
  },
  {
   "cell_type": "markdown",
   "metadata": {},
   "source": [
    "### For a detailed explanation, please take a look at the example file"
   ]
  },
  {
   "cell_type": "code",
   "execution_count": 1,
   "id": "117b9362",
   "metadata": {},
   "outputs": [],
   "source": [
    "import pandas as pd\n",
    "import numpy as np\n",
    "import dask.dataframe as dd\n",
    "import matplotlib.pyplot as plt\n",
    "import xarray as xr\n",
    "import glob\n",
    "import concurrent\n",
    "import os\n",
    "\n",
    "os.chdir('/home/lpa263/Competition/Datasets/train')\n",
    "\n",
    "# List out all the csv files with the filename starting with train_ followed by numbers\n",
    "fnames = pd.Series(glob.glob(\"train_*.csv\"))\n",
    "\n",
    "# We are going over each train csv files\n",
    "for fname in fnames:\n",
    "    # create the daskframe global variable\n",
    "    global daskframe\n",
    "    daskframe = dd.read_csv(fname)\n",
    "    daskframe = daskframe.loc[:, ['x','y','linescan']]\n",
    "    daskframe = daskframe.compute()\n",
    "    \n",
    "    # sum_zeros function rotate the picture with a given angle\n",
    "    # and returns the number of pixels that are outside of rectangular boundary setup by the maximum and minimum\n",
    "    # longitude and latitude of pixels whose linescan value is greater than 0 \n",
    "    def sum_zeros(angle):\n",
    "        rot = np.array([[np.cos(angle), np.sin(angle)],[-np.sin(angle), np.cos(angle)]])\n",
    "        df = daskframe.copy()\n",
    "        df[['x','y']] = df[['x','y']].dot(rot).round(0).astype(int)\n",
    "        df[['x','y']] = (df[['x','y']]).round(-1)\n",
    "        df = df.groupby(['x','y']).agg(np.max).reset_index()\n",
    "        df = df.loc[df.linescan.gt(0),:]\n",
    "        x_min, y_min, x_max, y_max = df.loc[:,['x','y']].apply([np.min, np.max]).to_numpy().reshape(-1)\n",
    "        x_lim = np.round((df.x.unique().shape[0]*.05), -1).astype(int)*10\n",
    "        y_lim = np.round((df.y.unique().shape[0]*.05), -1).astype(int)*10\n",
    "        result = df[(df.x.ge(x_max-x_lim)|df.x.le(x_min+x_lim)|df.y.ge(y_max-y_lim)|df.y.le(y_min+y_lim))&df.linescan.gt(0)].shape[0]\n",
    "        return(result)\n",
    "        del df\n",
    "        del im\n",
    "    \n",
    "    # We test out 51 different angles between 0 and pi/4\n",
    "    with concurrent.futures.ProcessPoolExecutor() as executor:\n",
    "        pi = np.pi\n",
    "        choices = [pi/4*(x)/50 for x in range(51)]\n",
    "        results = [executor.submit(sum_zeros, x).result() for x in choices]\n",
    "        del daskframe\n",
    "        \n",
    "    # Choose the one that cut-off the largest number of pixels whose linescan value is not 0\n",
    "    # That angle straighten up the linscan image.\n",
    "    angle = choices[results.index(max(results))]\n",
    "    df = dd.read_csv(fname)\n",
    "    df = df.loc[:, ['x','y','linescan']]\n",
    "    df = df.compute()\n",
    "    rot = np.array([[np.cos(angle), np.sin(angle)],[-np.sin(angle), np.cos(angle)]])\n",
    "    df[['x','y']] = df[['x','y']].dot(rot).round(0).astype(int)\n",
    "    df[['x','y']] = (df[['x','y']]).round(-1)\n",
    "    df = df.groupby(['x','y']).agg(np.max).reset_index()\n",
    "    x_min, y_min, x_max, y_max = df.loc[df.linescan.gt(0),['x','y']].apply([np.min, np.max]).to_numpy().reshape(-1)\n",
    "    x_lim = np.round((df.x.unique().shape[0]*.05), -1).astype(int)*10\n",
    "    y_lim = np.round((df.y.unique().shape[0]*.05), -1).astype(int)*10\n",
    "    df = df[(df.x.le(x_max-x_lim))&(df.x.ge(x_min+x_lim))&(df.y.le(y_max-y_lim))&(df.y.ge(y_min+y_lim))]\n",
    "    df[['x','y']] = (df[['x','y']].dot(np.linalg.inv(rot))+5).round(-1)-5\n",
    "    df.reset_index(drop = True, inplace = True)\n",
    "    df = df.groupby(['x','y']).agg(np.max).reset_index().loc[:, ['x','y']]\n",
    "    df.to_csv(f'rot_{fname}', index = False)\n",
    "    del df"
   ]
  }
 ],
 "metadata": {
  "kernelspec": {
   "display_name": "Python 3",
   "language": "python",
   "name": "python3"
  },
  "language_info": {
   "codemirror_mode": {
    "name": "ipython",
    "version": 3
   },
   "file_extension": ".py",
   "mimetype": "text/x-python",
   "name": "python",
   "nbconvert_exporter": "python",
   "pygments_lexer": "ipython3",
   "version": "3.6.9"
  }
 },
 "nbformat": 4,
 "nbformat_minor": 5
}
