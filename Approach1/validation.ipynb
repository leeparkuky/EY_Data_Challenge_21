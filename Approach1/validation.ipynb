{
 "cells": [
  {
   "cell_type": "code",
   "execution_count": 1,
   "metadata": {},
   "outputs": [
    {
     "name": "stderr",
     "output_type": "stream",
     "text": [
      "/env/lib/python3.6/site-packages/geopandas/_compat.py:110: UserWarning: The Shapely GEOS version (3.7.2-CAPI-1.11.0 ) is incompatible with the GEOS version PyGEOS was compiled with (3.9.1-CAPI-1.14.2). Conversions between both will be slow.\n",
      "  shapely_geos_version, geos_capi_version_string\n"
     ]
    }
   ],
   "source": [
    "################################## 1. Load packages, define dc, match gdf and load linescan images. \n",
    "\n",
    "from mpl_toolkits.mplot3d import Axes3D #to plot in 3D\n",
    "from matplotlib import colors           #extra colour representations\n",
    "from matplotlib import cm               #extra colour representations\n",
    "import cv2                              #to perform more complex manipulations on arrays\n",
    "\n",
    "%matplotlib inline\n",
    "import sys\n",
    "import numpy as np\n",
    "import pandas as pd\n",
    "import geopandas as gpd\n",
    "from datetime import datetime\n",
    "\n",
    "from datacube import Datacube\n",
    "import matplotlib.pyplot as plt\n",
    "\n",
    "sys.path.append(\"../scripts\")\n",
    "from dea_plotting import map_shapefile\n",
    "from dea_spatialtools import xr_rasterize\n",
    "import re"
   ]
  },
  {
   "cell_type": "code",
   "execution_count": 2,
   "metadata": {},
   "outputs": [
    {
     "name": "stderr",
     "output_type": "stream",
     "text": [
      "/env/lib/python3.6/site-packages/datacube/drivers/postgres/_connections.py:87: SADeprecationWarning: Calling URL() directly is deprecated and will be disabled in a future release.  The public constructor for URL is now the URL.create() method.\n",
      "  username=username, password=password,\n"
     ]
    }
   ],
   "source": [
    "# Define dc!\n",
    "dc = Datacube(app=\"Masking\")"
   ]
  },
  {
   "cell_type": "code",
   "execution_count": 3,
   "metadata": {},
   "outputs": [],
   "source": [
    "# idname!\n",
    "#idname = pd.read_csv('cleanclean.csv', quotechar = '\"')\n",
    "#idname"
   ]
  },
  {
   "cell_type": "code",
   "execution_count": 3,
   "metadata": {},
   "outputs": [
    {
     "name": "stderr",
     "output_type": "stream",
     "text": [
      "/env/lib/python3.6/site-packages/pandas/core/strings.py:2001: UserWarning: This pattern has match groups. To actually get the groups, use str.extract.\n",
      "  return func(self, *args, **kwargs)\n"
     ]
    }
   ],
   "source": [
    "### GDF\n",
    "\n",
    "vector_file = 'resources/fire_boundaries.shp'\n",
    "gdf = gpd.read_file(vector_file)\n",
    "def clean_name(name):\n",
    "    if name is None:\n",
    "        res = None\n",
    "    else:\n",
    "        if name.upper()[-4::] == \".JPG\":\n",
    "            res = name.upper()[:-4].replace(' ','_')\n",
    "        else:\n",
    "            res = name.upper().replace(' ','_')\n",
    "    return res\n",
    "\n",
    "gdf['SourceNameClean'] = gdf.apply(lambda row: clean_name(row.SourceName), axis=1)\n",
    "gdf.dtUTC = gdf.apply(lambda row: datetime.strptime(row.dtUTC, '%Y-%m-%d %H:%M:%S'), axis=1)\n",
    "gdf.dtLocal = gdf.apply(lambda row: datetime.strptime(row.dtLocal, '%Y-%m-%d %H:%M:%S'), axis=1)\n",
    "gdf['Composite'] = gdf.SourceName.str.upper().str.contains(\",|&|(COMPOSITE)\", na=False)\n"
   ]
  },
  {
   "cell_type": "code",
   "execution_count": 4,
   "metadata": {},
   "outputs": [],
   "source": [
    "## Linescan datasets!\n",
    "linescan_datasets = dc.find_datasets(product='linescan')\n",
    "linescan_datasets = sorted(linescan_datasets, key = lambda ds: (ds.center_time, ds.id))\n",
    "linescan_datasets = pd.Series(linescan_datasets)"
   ]
  },
  {
   "cell_type": "markdown",
   "metadata": {},
   "source": [
    "# linescan 74 and 92"
   ]
  },
  {
   "cell_type": "code",
   "execution_count": 8,
   "metadata": {},
   "outputs": [],
   "source": [
    "from sklearn.metrics import f1_score"
   ]
  },
  {
   "cell_type": "code",
   "execution_count": 14,
   "metadata": {},
   "outputs": [
    {
     "name": "stdout",
     "output_type": "stream",
     "text": [
      "linescan1:  23 , linescan2:  26 , maskopen:  1 , maskclose:  64\n",
      "linescan1:  23 , linescan2:  26 , maskopen:  1 , maskclose:  150\n",
      "linescan1:  23 , linescan2:  26 , maskopen:  1 , maskclose:  300\n",
      "linescan1:  23 , linescan2:  26 , maskopen:  1 , maskclose:  500\n",
      "linescan1:  23 , linescan2:  26 , maskopen:  2 , maskclose:  64\n",
      "linescan1:  23 , linescan2:  26 , maskopen:  2 , maskclose:  150\n",
      "linescan1:  23 , linescan2:  26 , maskopen:  2 , maskclose:  300\n",
      "linescan1:  23 , linescan2:  26 , maskopen:  2 , maskclose:  500\n",
      "linescan1:  23 , linescan2:  26 , maskopen:  3 , maskclose:  64\n",
      "linescan1:  23 , linescan2:  26 , maskopen:  3 , maskclose:  150\n",
      "linescan1:  23 , linescan2:  26 , maskopen:  3 , maskclose:  300\n",
      "linescan1:  23 , linescan2:  26 , maskopen:  3 , maskclose:  500\n"
     ]
    }
   ],
   "source": [
    "\n",
    "mopen = np.array([1,2,3])\n",
    "mclose = np.array([64, 150, 300, 500])\n",
    "\n",
    "#linescan1=np.array([74, 97, 27])\n",
    "#linescan2=np.array([92, 124, 29])\n",
    "linescan1=np.array([23])\n",
    "linescan2=np.array([26])\n",
    "for ls1, ls2 in zip(linescan1, linescan2):\n",
    "    for maskopen in mopen :\n",
    "        for maskclose in mclose:\n",
    "            print('linescan1: ', ls1, ', linescan2: ', ls2, ', maskopen: ', maskopen, ', maskclose: ', maskclose)"
   ]
  },
  {
   "cell_type": "code",
   "execution_count": 15,
   "metadata": {},
   "outputs": [
    {
     "name": "stdout",
     "output_type": "stream",
     "text": [
      "linescan1:  23 , linescan2:  26 , maskopen:  1 , maskclose:  64\n",
      "Rasterizing to match xarray.DataArray dimensions (1297, 3333)\n",
      "Rasterizing to match xarray.DataArray dimensions (777, 1171)\n",
      "linescan1:  23 , linescan2:  26 , maskopen:  1 , maskclose:  64 , f1 score:  0.4999749987499375\n",
      "linescan1:  23 , linescan2:  26 , maskopen:  1 , maskclose:  150\n",
      "Rasterizing to match xarray.DataArray dimensions (1297, 3333)\n",
      "Rasterizing to match xarray.DataArray dimensions (777, 1171)\n",
      "linescan1:  23 , linescan2:  26 , maskopen:  1 , maskclose:  150 , f1 score:  0.4999749987499375\n",
      "linescan1:  23 , linescan2:  26 , maskopen:  1 , maskclose:  300\n",
      "Rasterizing to match xarray.DataArray dimensions (1297, 3333)\n",
      "Rasterizing to match xarray.DataArray dimensions (777, 1171)\n",
      "linescan1:  23 , linescan2:  26 , maskopen:  1 , maskclose:  300 , f1 score:  0.4999749987499375\n",
      "linescan1:  23 , linescan2:  26 , maskopen:  1 , maskclose:  500\n",
      "Rasterizing to match xarray.DataArray dimensions (1297, 3333)\n",
      "Rasterizing to match xarray.DataArray dimensions (777, 1171)\n",
      "linescan1:  23 , linescan2:  26 , maskopen:  1 , maskclose:  500 , f1 score:  0.4999749987499375\n",
      "linescan1:  23 , linescan2:  26 , maskopen:  2 , maskclose:  64\n",
      "Rasterizing to match xarray.DataArray dimensions (1297, 3333)\n",
      "Rasterizing to match xarray.DataArray dimensions (777, 1171)\n",
      "linescan1:  23 , linescan2:  26 , maskopen:  2 , maskclose:  64 , f1 score:  1.0\n",
      "linescan1:  23 , linescan2:  26 , maskopen:  2 , maskclose:  150\n",
      "Rasterizing to match xarray.DataArray dimensions (1297, 3333)\n",
      "Rasterizing to match xarray.DataArray dimensions (777, 1171)\n",
      "linescan1:  23 , linescan2:  26 , maskopen:  2 , maskclose:  150 , f1 score:  1.0\n",
      "linescan1:  23 , linescan2:  26 , maskopen:  2 , maskclose:  300\n",
      "Rasterizing to match xarray.DataArray dimensions (1297, 3333)\n",
      "Rasterizing to match xarray.DataArray dimensions (777, 1171)\n",
      "linescan1:  23 , linescan2:  26 , maskopen:  2 , maskclose:  300 , f1 score:  1.0\n",
      "linescan1:  23 , linescan2:  26 , maskopen:  2 , maskclose:  500\n",
      "Rasterizing to match xarray.DataArray dimensions (1297, 3333)\n",
      "Rasterizing to match xarray.DataArray dimensions (777, 1171)\n",
      "linescan1:  23 , linescan2:  26 , maskopen:  2 , maskclose:  500 , f1 score:  1.0\n",
      "linescan1:  23 , linescan2:  26 , maskopen:  3 , maskclose:  64\n",
      "Rasterizing to match xarray.DataArray dimensions (1297, 3333)\n",
      "Rasterizing to match xarray.DataArray dimensions (777, 1171)\n",
      "linescan1:  23 , linescan2:  26 , maskopen:  3 , maskclose:  64 , f1 score:  0.4999749987499375\n",
      "linescan1:  23 , linescan2:  26 , maskopen:  3 , maskclose:  150\n",
      "Rasterizing to match xarray.DataArray dimensions (1297, 3333)\n",
      "Rasterizing to match xarray.DataArray dimensions (777, 1171)\n",
      "linescan1:  23 , linescan2:  26 , maskopen:  3 , maskclose:  150 , f1 score:  0.4999749987499375\n",
      "linescan1:  23 , linescan2:  26 , maskopen:  3 , maskclose:  300\n",
      "Rasterizing to match xarray.DataArray dimensions (1297, 3333)\n",
      "Rasterizing to match xarray.DataArray dimensions (777, 1171)\n",
      "linescan1:  23 , linescan2:  26 , maskopen:  3 , maskclose:  300 , f1 score:  0.4999749987499375\n",
      "linescan1:  23 , linescan2:  26 , maskopen:  3 , maskclose:  500\n",
      "Rasterizing to match xarray.DataArray dimensions (1297, 3333)\n",
      "Rasterizing to match xarray.DataArray dimensions (777, 1171)\n",
      "linescan1:  23 , linescan2:  26 , maskopen:  3 , maskclose:  500 , f1 score:  0.4999749987499375\n"
     ]
    }
   ],
   "source": [
    "mopen = np.array([1,2,3])\n",
    "mclose = np.array([64, 150, 300, 500])\n",
    "\n",
    "\n",
    "\n",
    "for ls1, ls2 in zip(linescan1, linescan2):\n",
    "    for maskopen in mopen :\n",
    "        for maskclose in mclose:\n",
    "            print('linescan1: ', ls1, ', linescan2: ', ls2, ', maskopen: ', maskopen, ', maskclose: ', maskclose)\n",
    "\n",
    "            ####### Create mask for the first test image. \n",
    "            # 1. Plot the first train image\n",
    "            # 2. Find the closest image from train set()\n",
    "            # 3. Rasterize the train image\n",
    "            # 4. Extract points where is brighter than 150 from test data\n",
    "            # 5. Overlap the train image on train data.\n",
    "            # 6. Mask the overlapped image to get the prediction\n",
    "            # 7. Extract the required points for test set\n",
    "\n",
    "\n",
    "            # 1. Plot the first train image\n",
    "            ob1  = gdf[gdf.SourceNameClean == 'YARRA51_633_P1_201903061644_MGA94_55']\n",
    "            src1 = dc.load(product='linescan', id=linescan_datasets[ls1].id, output_crs='epsg:28355', resolution=(-10,10))\n",
    "            #fig, ax = plt.subplots(nrows=1, ncols=1, figsize=(15,15))\n",
    "            #src1.linescan.plot(ax=ax)\n",
    "            #ob1.geometry.exterior.plot(ax=ax, edgecolor='red', linewidths=1)\n",
    "\n",
    "\n",
    "            ## 2. Find the closest time and place from training data.\n",
    "            ob2  = gdf[gdf.SourceNameClean == 'YARRA51_704_P1_201903091659_MGA94_55']\n",
    "            src2 = dc.load(product='linescan', id=linescan_datasets[ls2].id, output_crs='epsg:28355', resolution=(-10,10))\n",
    "            #fig, ax = plt.subplots(nrows=1, ncols=1, figsize=(15,15))\n",
    "            #src2.linescan.plot(ax=ax)\n",
    "            #ob1.geometry.exterior.plot(ax=ax, edgecolor='red', linewidths=1)\n",
    "\n",
    "            ## mask: the true model\n",
    "            tgt = xr_rasterize(gdf=ob2, da=src2)\n",
    "            truefire=tgt\n",
    "            src2['truefire']=truefire\n",
    "\n",
    "\n",
    "            # 3. Rasterize the train image\n",
    "\n",
    "            tgt = xr_rasterize(gdf=ob1, da=src1)\n",
    "            rgb_mask1=tgt*255\n",
    "            src1['rgb_mask1']=rgb_mask1\n",
    "\n",
    "\n",
    "\n",
    "            # 4. Extract points where is brighter than 100 from test data\n",
    "\n",
    "            lowerBound=100\n",
    "            upperBound=255\n",
    "            #create the mask over the top of our original image\n",
    "            rgb_mask2 = cv2.inRange(src2.linescan.values[0],lowerBound,upperBound)\n",
    "\n",
    "            colname = src2.x.values\n",
    "            rowname = src2.y.values\n",
    "            rgb_mask2 = pd.DataFrame(rgb_mask2, index = rowname, columns = colname)\n",
    "            rgb_mask2.shape\n",
    "\n",
    "\n",
    "            # 5. Overlap the train image on train data.\n",
    "\n",
    "            rgb_mask2.index.name = 'y'\n",
    "            rgb_mask2.columns.name = 'x'\n",
    "            src2['rgb_mask2'] = rgb_mask2\n",
    "\n",
    "            dftest=pd.concat([src1.to_dataframe().reset_index(), src2.to_dataframe().reset_index()], ignore_index=True, sort=False)\n",
    "            dftest['rgb_mask3']=np.fmax(dftest.loc[:,'rgb_mask1'], dftest.loc[:,'rgb_mask2'])\n",
    "            newdf=dftest.drop(columns=['time','linescan','spatial_ref', 'rgb_mask1', 'rgb_mask2'], axis=1)\n",
    "            dates = '2019-01-27~28'\n",
    "            x = newdf.x\n",
    "            y = newdf.y\n",
    "\n",
    "\n",
    "            overlap_rgb = newdf.rgb_mask3\n",
    "            df_multiindex = pd.DataFrame({'date': dates,\n",
    "                                          'x': x,\n",
    "                                          'y': y,\n",
    "                                          'overlap_rgb': overlap_rgb})\n",
    "            df_multiindex = df_multiindex.set_index(['date', 'x','y'])\n",
    "            rgb_mask=df_multiindex[~df_multiindex.index.duplicated()].to_xarray()\n",
    "\n",
    "            fillna=rgb_mask.fillna(value=0)\n",
    "\n",
    "            #fig, ax = plt.subplots(nrows=1, ncols=1, figsize=(15,15))\n",
    "            #fillna.overlap_rgb.plot(ax=ax)\n",
    "\n",
    "\n",
    "\n",
    "            # 6. Mask the overlapped image to get the prediction\n",
    "\n",
    "            #establish dialation and contraction parameters\n",
    "            kernelOpen=np.ones((maskopen,maskopen)) # try it yourself!\n",
    "            kernelClose=np.ones((maskclose,maskclose))      \n",
    "\n",
    "            #denoise the pixels\n",
    "            maskOpen=cv2.morphologyEx(fillna.overlap_rgb[0].values,cv2.MORPH_OPEN,kernelOpen)\n",
    "\n",
    "            #plot the denoised pixels\n",
    "            #join the pxels together\n",
    "            maskClose=cv2.morphologyEx(maskOpen,cv2.MORPH_CLOSE,kernelClose)\n",
    "\n",
    "            #fig = plt.figure(figsize=(20, 10))\n",
    "            #plt.imshow(maskClose)\n",
    "            #plt.show()\n",
    "            #establish dialation and contraction parameters\n",
    "\n",
    "            # 3. Compare prediction and true fire area\n",
    "\n",
    "            ## mask: the prediction\n",
    "            our_mask = fillna.overlap_rgb\n",
    "            our_mask.values[0] = maskClose/255\n",
    "\n",
    "            #prediction=our_mask.sel(x=slice(src2.x.min(), src2.x.max()), y=slice(src2.y.min(), src2.y.max()))\n",
    "\n",
    "\n",
    "            # Make testset that we will compare the true-fire and our pred.round()iction\n",
    "\n",
    "            x=np.linspace(src2.x.min(), src2.x.max(), num=100)\n",
    "            y=np.linspace(src2.y.min(), src2.y.max(), num=100)\n",
    "            x_dp=np.repeat(x,100)\n",
    "            y_dp=np.tile(y,100)\n",
    "            testset = pd.DataFrame({'x':x_dp, 'y':y_dp})\n",
    "\n",
    "\n",
    "            # iterate over the coordinates that are required for testing in the current linescan file\n",
    "            for idx, ob in testset.iterrows():\n",
    "                result_tf = src2.sel(x=ob.x, y=ob.y, method='nearest').truefire.values\n",
    "                result_pd = our_mask.sel(x=ob.x, y=ob.y, method='nearest')\n",
    "                result_10 = int(result_tf == 1)\n",
    "                result_11 = int(result_pd == 1)\n",
    "                testset.loc[(testset.x==ob.x) & (testset.y==ob.y), 'truefire'] = result_10\n",
    "                testset.loc[(testset.x==ob.x) & (testset.y==ob.y), 'prediction'] = result_11\n",
    "\n",
    "\n",
    "            # Calculate F1 score\n",
    "            pred=testset.truefire\n",
    "            true=testset.prediction\n",
    "\n",
    "\n",
    "\n",
    "            f1score=f1_score(true, pred, average='macro')\n",
    "            print('linescan1: ', ls1, ', linescan2: ', ls2, ', maskopen: ', maskopen, ', maskclose: ', maskclose, ', f1 score: ', f1score)\n"
   ]
  },
  {
   "cell_type": "markdown",
   "metadata": {},
   "source": []
  },
  {
   "cell_type": "markdown",
   "metadata": {},
   "source": [
    "# 23 and 26"
   ]
  },
  {
   "cell_type": "code",
   "execution_count": null,
   "metadata": {},
   "outputs": [],
   "source": []
  },
  {
   "cell_type": "code",
   "execution_count": null,
   "metadata": {},
   "outputs": [],
   "source": []
  },
  {
   "cell_type": "code",
   "execution_count": null,
   "metadata": {},
   "outputs": [],
   "source": []
  },
  {
   "cell_type": "code",
   "execution_count": null,
   "metadata": {},
   "outputs": [],
   "source": []
  },
  {
   "cell_type": "code",
   "execution_count": null,
   "metadata": {},
   "outputs": [],
   "source": []
  },
  {
   "cell_type": "code",
   "execution_count": null,
   "metadata": {},
   "outputs": [],
   "source": []
  },
  {
   "cell_type": "code",
   "execution_count": null,
   "metadata": {},
   "outputs": [],
   "source": []
  },
  {
   "cell_type": "code",
   "execution_count": null,
   "metadata": {},
   "outputs": [],
   "source": []
  },
  {
   "cell_type": "code",
   "execution_count": 31,
   "metadata": {},
   "outputs": [],
   "source": []
  },
  {
   "cell_type": "code",
   "execution_count": null,
   "metadata": {},
   "outputs": [],
   "source": []
  },
  {
   "cell_type": "markdown",
   "metadata": {},
   "source": []
  },
  {
   "cell_type": "code",
   "execution_count": null,
   "metadata": {},
   "outputs": [],
   "source": []
  },
  {
   "cell_type": "code",
   "execution_count": null,
   "metadata": {},
   "outputs": [],
   "source": []
  },
  {
   "cell_type": "code",
   "execution_count": null,
   "metadata": {},
   "outputs": [],
   "source": []
  },
  {
   "cell_type": "code",
   "execution_count": null,
   "metadata": {},
   "outputs": [],
   "source": []
  },
  {
   "cell_type": "code",
   "execution_count": null,
   "metadata": {},
   "outputs": [],
   "source": []
  },
  {
   "cell_type": "markdown",
   "metadata": {},
   "source": []
  },
  {
   "cell_type": "code",
   "execution_count": null,
   "metadata": {},
   "outputs": [],
   "source": []
  },
  {
   "cell_type": "code",
   "execution_count": null,
   "metadata": {},
   "outputs": [],
   "source": []
  },
  {
   "cell_type": "code",
   "execution_count": null,
   "metadata": {},
   "outputs": [],
   "source": []
  },
  {
   "cell_type": "code",
   "execution_count": null,
   "metadata": {},
   "outputs": [],
   "source": []
  },
  {
   "cell_type": "code",
   "execution_count": null,
   "metadata": {},
   "outputs": [],
   "source": []
  },
  {
   "cell_type": "code",
   "execution_count": null,
   "metadata": {},
   "outputs": [],
   "source": []
  },
  {
   "cell_type": "code",
   "execution_count": null,
   "metadata": {},
   "outputs": [],
   "source": []
  },
  {
   "cell_type": "code",
   "execution_count": null,
   "metadata": {},
   "outputs": [],
   "source": []
  },
  {
   "cell_type": "code",
   "execution_count": null,
   "metadata": {},
   "outputs": [],
   "source": []
  },
  {
   "cell_type": "code",
   "execution_count": null,
   "metadata": {},
   "outputs": [],
   "source": []
  },
  {
   "cell_type": "code",
   "execution_count": null,
   "metadata": {},
   "outputs": [],
   "source": []
  },
  {
   "cell_type": "code",
   "execution_count": null,
   "metadata": {},
   "outputs": [],
   "source": []
  },
  {
   "cell_type": "markdown",
   "metadata": {},
   "source": []
  },
  {
   "cell_type": "code",
   "execution_count": null,
   "metadata": {},
   "outputs": [],
   "source": []
  },
  {
   "cell_type": "code",
   "execution_count": null,
   "metadata": {},
   "outputs": [],
   "source": []
  },
  {
   "cell_type": "code",
   "execution_count": null,
   "metadata": {},
   "outputs": [],
   "source": []
  }
 ],
 "metadata": {
  "kernelspec": {
   "display_name": "Python 3",
   "language": "python",
   "name": "python3"
  },
  "language_info": {
   "codemirror_mode": {
    "name": "ipython",
    "version": 3
   },
   "file_extension": ".py",
   "mimetype": "text/x-python",
   "name": "python",
   "nbconvert_exporter": "python",
   "pygments_lexer": "ipython3",
   "version": "3.6.9"
  }
 },
 "nbformat": 4,
 "nbformat_minor": 4
}
