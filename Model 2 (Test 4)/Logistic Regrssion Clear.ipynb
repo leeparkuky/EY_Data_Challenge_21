{
 "cells": [
  {
   "cell_type": "markdown",
   "id": "dca5f660-f3be-4071-bc01-535fa83c2f16",
   "metadata": {},
   "source": [
    "# Logistic Regression for the clear area"
   ]
  },
  {
   "cell_type": "code",
   "execution_count": 1,
   "id": "2265a5a6-87ea-49a3-9047-c37dd2b18446",
   "metadata": {},
   "outputs": [],
   "source": [
    "import dask.dataframe as dd\n",
    "import pandas as pd\n",
    "import numpy as np\n",
    "import matplotlib.pyplot as plt"
   ]
  },
  {
   "cell_type": "code",
   "execution_count": 2,
   "id": "da239c84-6391-473a-9b56-d2fd69e59535",
   "metadata": {
    "tags": []
   },
   "outputs": [
    {
     "name": "stdout",
     "output_type": "stream",
     "text": [
      "(70000, 104)\n"
     ]
    }
   ],
   "source": [
    "df = dd.read_csv('test4_nosmoke*.csv')\n",
    "df = df.compute()\n",
    "print(df.shape)\n",
    "X = df.iloc[:, :-1]\n",
    "y = df.iloc[:, -1:]\n",
    "X = X.to_numpy()\n",
    "y = y.to_numpy().reshape(-1)\n",
    "del df\n"
   ]
  },
  {
   "cell_type": "code",
   "execution_count": null,
   "id": "8e861eda-9c4b-4fa9-9a39-3aa493722cae",
   "metadata": {},
   "outputs": [],
   "source": [
    "from sklearn.linear_model import LogisticRegression\n",
    "logreg = LogisticRegression(max_iter = 10000, n_jobs = -1, C = 100)\n",
    "logreg.fit(X,y)"
   ]
  },
  {
   "cell_type": "code",
   "execution_count": null,
   "id": "6fab9110-da29-477f-9472-5b122aecd23e",
   "metadata": {},
   "outputs": [],
   "source": [
    "quant_names = pd.read_csv('clean_polyname.csv')"
   ]
  },
  {
   "cell_type": "code",
   "execution_count": null,
   "id": "e54be0dc-a286-457e-9a7d-312543f3f27c",
   "metadata": {},
   "outputs": [],
   "source": [
    "colors = ['blue' if abs(x) < 1.5 else 'red' for x in logreg.coef_[:,:78].reshape(-1)]"
   ]
  },
  {
   "cell_type": "code",
   "execution_count": null,
   "id": "51e98832-3d1a-4c63-8223-ffde405a7108",
   "metadata": {},
   "outputs": [],
   "source": [
    "fig, ax = plt.subplots(figsize = (20,10))\n",
    "ax.bar(x = quant_names.clean_polyname, height = logreg.coef_[:,:78].reshape(-1), color = colors)\n",
    "ax.set_xticklabels(quant_names.clean_polyname, {'fontsize' : 13},rotation=90)\n",
    "ax.set_yticklabels([-8,-6, -4,-2,0,2,4,6,8],{'fontsize' : 13},rotation=90)\n",
    "[t.set_color(i) for (i,t) in\n",
    " zip(colors,ax.xaxis.get_ticklabels())]\n",
    "ax.set_title('Coefficients of the logistic model - Clear Area', {'fontsize': 30})\n",
    "plt.savefig('logreg_coef.png')\n",
    "plt.show()"
   ]
  },
  {
   "cell_type": "code",
   "execution_count": null,
   "id": "ea32a7a2-8b2e-4011-8522-591b35c9c1d3",
   "metadata": {},
   "outputs": [],
   "source": [
    "colors = ['blue' if abs(x) < .5 else 'red' for x in logreg.coef_[:,78:].reshape(-1)]"
   ]
  },
  {
   "cell_type": "code",
   "execution_count": null,
   "id": "2af65b6b-c613-4611-a3fe-b20ce2d814b1",
   "metadata": {},
   "outputs": [],
   "source": [
    "fig, ax = plt.subplots(figsize = (20,10))\n",
    "ax.bar(x = ['maskClose' + x for x in np.arange(25).astype(str)],height = logreg.coef_[:,78:].reshape(-1), color = colors)\n",
    "ax.set_xticklabels( ['maskClose' + x for x in np.arange(25).astype(str)], {'fontsize' : 13},rotation=90)\n",
    "ax.set_title('Coefficients of the logistic model (Categorical features) - Clear Area', {'fontsize': 30})\n",
    "plt.savefig('logreg_coef_categories.png')\n",
    "plt.show()"
   ]
  }
 ],
 "metadata": {
  "kernelspec": {
   "display_name": "Python 3",
   "language": "python",
   "name": "python3"
  },
  "language_info": {
   "codemirror_mode": {
    "name": "ipython",
    "version": 3
   },
   "file_extension": ".py",
   "mimetype": "text/x-python",
   "name": "python",
   "nbconvert_exporter": "python",
   "pygments_lexer": "ipython3",
   "version": "3.8.8"
  }
 },
 "nbformat": 4,
 "nbformat_minor": 5
}
