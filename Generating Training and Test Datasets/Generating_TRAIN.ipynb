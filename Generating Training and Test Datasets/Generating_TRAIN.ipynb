{
 "cells": [
  {
   "cell_type": "markdown",
   "id": "93227bdd-f367-44ab-8561-8d7bfbd43301",
   "metadata": {},
   "source": [
    "# Generating Training Data"
   ]
  },
  {
   "cell_type": "markdown",
   "id": "c935c985-a3ac-4214-bffd-3a1d806c9172",
   "metadata": {},
   "source": [
    "## Step 1. Check the smoke proportions"
   ]
  },
  {
   "cell_type": "code",
   "execution_count": 1,
   "id": "60ebfa77-d615-4bcd-b38f-35964f2297a3",
   "metadata": {},
   "outputs": [],
   "source": [
    "import dask.dataframe as dd\n",
    "import pandas as pd\n",
    "import numpy as np\n",
    "import matplotlib.pyplot as plt"
   ]
  },
  {
   "cell_type": "code",
   "execution_count": 2,
   "id": "6dbb4353-bffd-4407-80c0-3607662a99ee",
   "metadata": {},
   "outputs": [],
   "source": [
    "clouds = pd.read_csv('cloud amount by filenames.csv')\n",
    "test_clouds = pd.read_csv('~/Competition/Datasets/cleaned_test/cloud_amount_test.csv')"
   ]
  },
  {
   "cell_type": "code",
   "execution_count": 3,
   "id": "4b434cd1-4392-40ec-b398-b8f500322315",
   "metadata": {},
   "outputs": [
    {
     "data": {
      "text/html": [
       "<div>\n",
       "<style scoped>\n",
       "    .dataframe tbody tr th:only-of-type {\n",
       "        vertical-align: middle;\n",
       "    }\n",
       "\n",
       "    .dataframe tbody tr th {\n",
       "        vertical-align: top;\n",
       "    }\n",
       "\n",
       "    .dataframe thead th {\n",
       "        text-align: right;\n",
       "    }\n",
       "</style>\n",
       "<table border=\"1\" class=\"dataframe\">\n",
       "  <thead>\n",
       "    <tr style=\"text-align: right;\">\n",
       "      <th></th>\n",
       "      <th>Unnamed: 0</th>\n",
       "      <th>fnames</th>\n",
       "      <th>clouds</th>\n",
       "    </tr>\n",
       "  </thead>\n",
       "  <tbody>\n",
       "    <tr>\n",
       "      <th>0</th>\n",
       "      <td>0</td>\n",
       "      <td>test_0.csv</td>\n",
       "      <td>0.000008</td>\n",
       "    </tr>\n",
       "    <tr>\n",
       "      <th>1</th>\n",
       "      <td>1</td>\n",
       "      <td>test_1.csv</td>\n",
       "      <td>0.000325</td>\n",
       "    </tr>\n",
       "    <tr>\n",
       "      <th>2</th>\n",
       "      <td>2</td>\n",
       "      <td>test_2.csv</td>\n",
       "      <td>0.000002</td>\n",
       "    </tr>\n",
       "    <tr>\n",
       "      <th>3</th>\n",
       "      <td>3</td>\n",
       "      <td>test_3.csv</td>\n",
       "      <td>0.148131</td>\n",
       "    </tr>\n",
       "    <tr>\n",
       "      <th>4</th>\n",
       "      <td>4</td>\n",
       "      <td>test_4.csv</td>\n",
       "      <td>0.103127</td>\n",
       "    </tr>\n",
       "  </tbody>\n",
       "</table>\n",
       "</div>"
      ],
      "text/plain": [
       "   Unnamed: 0      fnames    clouds\n",
       "0           0  test_0.csv  0.000008\n",
       "1           1  test_1.csv  0.000325\n",
       "2           2  test_2.csv  0.000002\n",
       "3           3  test_3.csv  0.148131\n",
       "4           4  test_4.csv  0.103127"
      ]
     },
     "execution_count": 3,
     "metadata": {},
     "output_type": "execute_result"
    }
   ],
   "source": [
    "test_clouds"
   ]
  },
  {
   "cell_type": "markdown",
   "id": "06ea2c8f-e327-4c0a-9e27-719464bc1153",
   "metadata": {},
   "source": [
    "We are finding models for test_3.csv and test_4.csv; Therefore, we want to list a candidate training sets that contain similar amount of smokes"
   ]
  },
  {
   "cell_type": "code",
   "execution_count": 4,
   "id": "325849db-be40-46f3-a950-6b07ed7620a6",
   "metadata": {},
   "outputs": [
    {
     "data": {
      "text/html": [
       "<div>\n",
       "<style scoped>\n",
       "    .dataframe tbody tr th:only-of-type {\n",
       "        vertical-align: middle;\n",
       "    }\n",
       "\n",
       "    .dataframe tbody tr th {\n",
       "        vertical-align: top;\n",
       "    }\n",
       "\n",
       "    .dataframe thead th {\n",
       "        text-align: right;\n",
       "    }\n",
       "</style>\n",
       "<table border=\"1\" class=\"dataframe\">\n",
       "  <thead>\n",
       "    <tr style=\"text-align: right;\">\n",
       "      <th></th>\n",
       "      <th>fnames</th>\n",
       "      <th>clouds</th>\n",
       "    </tr>\n",
       "  </thead>\n",
       "  <tbody>\n",
       "    <tr>\n",
       "      <th>29</th>\n",
       "      <td>train_97.csv</td>\n",
       "      <td>0.124863</td>\n",
       "    </tr>\n",
       "    <tr>\n",
       "      <th>30</th>\n",
       "      <td>train_131.csv</td>\n",
       "      <td>0.126667</td>\n",
       "    </tr>\n",
       "    <tr>\n",
       "      <th>31</th>\n",
       "      <td>train_92.csv</td>\n",
       "      <td>0.154715</td>\n",
       "    </tr>\n",
       "    <tr>\n",
       "      <th>32</th>\n",
       "      <td>train_72.csv</td>\n",
       "      <td>0.202768</td>\n",
       "    </tr>\n",
       "    <tr>\n",
       "      <th>33</th>\n",
       "      <td>train_121.csv</td>\n",
       "      <td>0.206575</td>\n",
       "    </tr>\n",
       "  </tbody>\n",
       "</table>\n",
       "</div>"
      ],
      "text/plain": [
       "           fnames    clouds\n",
       "29   train_97.csv  0.124863\n",
       "30  train_131.csv  0.126667\n",
       "31   train_92.csv  0.154715\n",
       "32   train_72.csv  0.202768\n",
       "33  train_121.csv  0.206575"
      ]
     },
     "execution_count": 4,
     "metadata": {},
     "output_type": "execute_result"
    }
   ],
   "source": [
    "clouds[clouds.clouds > .12][:5]"
   ]
  },
  {
   "cell_type": "markdown",
   "id": "a62bc437-d427-4923-8ef5-e01119190aca",
   "metadata": {},
   "source": [
    "First, we want to sample equal amount of cases from each of the candidates. \n",
    "\n",
    "To do so, we first need to find the maximum number of sampling size for each training set."
   ]
  },
  {
   "cell_type": "code",
   "execution_count": 5,
   "id": "2e0cb864-4e76-42bd-be91-8b13cde19b64",
   "metadata": {},
   "outputs": [],
   "source": [
    "candidates = clouds[clouds.clouds > .12][:5].fnames.reset_index(drop = True)"
   ]
  },
  {
   "cell_type": "code",
   "execution_count": 6,
   "id": "311d8e0d-cf3e-4fbe-a45b-be44cf7d6bec",
   "metadata": {},
   "outputs": [],
   "source": [
    "sample_size = []"
   ]
  },
  {
   "cell_type": "code",
   "execution_count": 7,
   "id": "eb10553d-b697-430a-a40f-1a37f2c2997f",
   "metadata": {},
   "outputs": [],
   "source": [
    "for f in candidates:\n",
    "    df = dd.read_csv(f)\n",
    "    df['cloud'] = df.linescan.eq(0)\n",
    "    maximum_sample_size = df.groupby(['tgt','cloud']).x.count().compute().unstack().min().min()//1.5\n",
    "    sample_size.append(maximum_sample_size)\n",
    "    del df"
   ]
  },
  {
   "cell_type": "code",
   "execution_count": 8,
   "id": "d33855fc-8c4e-42d9-a06a-4a9c0327336e",
   "metadata": {},
   "outputs": [
    {
     "data": {
      "text/plain": [
       "[128242.0, 30771.0, 12962.0, 7900.0, 164680.0]"
      ]
     },
     "execution_count": 8,
     "metadata": {},
     "output_type": "execute_result"
    }
   ],
   "source": [
    "sample_size"
   ]
  },
  {
   "cell_type": "markdown",
   "id": "51fc8fbd-5a29-495c-af5a-80d2911bb91a",
   "metadata": {},
   "source": [
    "We see that it seems reasonable to get 7000 from each file."
   ]
  },
  {
   "cell_type": "markdown",
   "id": "961ca8a7-1616-4c32-b19d-6a1431694575",
   "metadata": {},
   "source": [
    "## Step 2. Preprocessing"
   ]
  },
  {
   "cell_type": "markdown",
   "id": "ffdd6fd5-5f29-479b-b264-d60ae599c7ca",
   "metadata": {},
   "source": [
    "We are splitting the datasets into smoke and no smoke; and fit different models to maximize the efficiency."
   ]
  },
  {
   "cell_type": "markdown",
   "id": "92733f16-ed0c-448f-89b2-8868daabae88",
   "metadata": {},
   "source": [
    "Example: train_131.csv"
   ]
  },
  {
   "cell_type": "code",
   "execution_count": 9,
   "id": "a49cda5e-17d6-4984-90f6-b72080d450e7",
   "metadata": {},
   "outputs": [],
   "source": [
    "df = dd.read_csv('train_131.csv')"
   ]
  },
  {
   "cell_type": "code",
   "execution_count": 10,
   "id": "140b5823-3437-40bc-9888-2f090e82ecc9",
   "metadata": {},
   "outputs": [],
   "source": [
    "df['cloud'] = df.linescan.eq(0)"
   ]
  },
  {
   "cell_type": "code",
   "execution_count": 11,
   "id": "8eae20ce-5e64-4959-833b-5d5b99a9bf48",
   "metadata": {},
   "outputs": [],
   "source": [
    "smoke = df.loc[df.cloud,:].compute()\n",
    "nosmoke = df.loc[~df.cloud,:].compute()"
   ]
  },
  {
   "cell_type": "markdown",
   "id": "fb5732fd-0cf3-44d5-b36b-d5a805d84d4a",
   "metadata": {},
   "source": [
    "For the smoke region, we would like to add two more variables:\n",
    "> 1. **Distance to the closest pixel point where their linescan value is greater than 200**   \n",
    "> 2. **Distance to the closest pixel point where their maskClose_1 is 255**"
   ]
  },
  {
   "cell_type": "markdown",
   "id": "a73452b5-aa03-4b94-9ba6-64602cc70e97",
   "metadata": {},
   "source": [
    "1. **Distance to the closest pixel point where their linescan value is greater than 200**"
   ]
  },
  {
   "cell_type": "code",
   "execution_count": 12,
   "id": "b9ac5dc6-8d23-4228-8148-5ce286c75b94",
   "metadata": {},
   "outputs": [],
   "source": [
    "linescan_gt200 = df.loc[df.linescan.ge(200), ['x','y']].compute()"
   ]
  },
  {
   "cell_type": "code",
   "execution_count": 13,
   "id": "852ba0de-5ba1-48a8-b36e-b3436a77c97f",
   "metadata": {},
   "outputs": [],
   "source": [
    "linescan_gt200.reset_index(drop = True, inplace = True)"
   ]
  },
  {
   "cell_type": "code",
   "execution_count": 14,
   "id": "62e05831-cd0a-4877-8139-657893ec048c",
   "metadata": {},
   "outputs": [
    {
     "data": {
      "text/plain": [
       "KNeighborsTransformer(n_neighbors=1)"
      ]
     },
     "execution_count": 14,
     "metadata": {},
     "output_type": "execute_result"
    }
   ],
   "source": [
    "from sklearn.neighbors import KNeighborsTransformer\n",
    "knt = KNeighborsTransformer(n_neighbors = 1)\n",
    "knt.fit(linescan_gt200)"
   ]
  },
  {
   "cell_type": "code",
   "execution_count": 15,
   "id": "c9c86428-695c-4a04-a8a5-44e48469abe7",
   "metadata": {},
   "outputs": [],
   "source": [
    "distance = knt.kneighbors(smoke[['x','y']])[0].reshape(-1)"
   ]
  },
  {
   "cell_type": "code",
   "execution_count": 16,
   "id": "1e6bd87e-7c20-4c91-b881-02ba5e7dd2fb",
   "metadata": {},
   "outputs": [],
   "source": [
    "smoke['distance']  = distance"
   ]
  },
  {
   "cell_type": "markdown",
   "id": "783695c1-076b-4fed-b1d9-e703dc9b1631",
   "metadata": {},
   "source": [
    "2. **Distance to the closest pixel point where their maskClose_1 is 255**"
   ]
  },
  {
   "cell_type": "code",
   "execution_count": 17,
   "id": "157e22bc-d973-4b3e-bf71-b8f801bebbbd",
   "metadata": {},
   "outputs": [],
   "source": [
    "mask_positive = df.loc[df.maskClose_1.eq(255), ['x','y']].compute()"
   ]
  },
  {
   "cell_type": "code",
   "execution_count": 18,
   "id": "3f87c66a-18aa-4605-9abc-0f91a8a70bb1",
   "metadata": {},
   "outputs": [],
   "source": [
    "mask_positive.reset_index(drop = True, inplace = True)"
   ]
  },
  {
   "cell_type": "code",
   "execution_count": 19,
   "id": "4175a614-975c-4b69-8471-f11881efa950",
   "metadata": {},
   "outputs": [
    {
     "data": {
      "text/plain": [
       "KNeighborsTransformer(n_neighbors=1)"
      ]
     },
     "execution_count": 19,
     "metadata": {},
     "output_type": "execute_result"
    }
   ],
   "source": [
    "knt.fit(mask_positive)"
   ]
  },
  {
   "cell_type": "code",
   "execution_count": 20,
   "id": "e99e1d8f-c983-4ca3-ac12-e6dde70d5478",
   "metadata": {},
   "outputs": [],
   "source": [
    "distance_mask = knt.kneighbors(smoke[['x','y']])[0].reshape(-1)"
   ]
  },
  {
   "cell_type": "code",
   "execution_count": 21,
   "id": "d271bf61-1124-4137-9e43-ba608082c7a8",
   "metadata": {},
   "outputs": [],
   "source": [
    "smoke['distance_mask'] = distance_mask"
   ]
  },
  {
   "cell_type": "markdown",
   "id": "c4cea030-d977-421d-9451-aeefebf54620",
   "metadata": {},
   "source": [
    "## Step 3. Transformation and Standardization "
   ]
  },
  {
   "cell_type": "markdown",
   "id": "a6eb2b8f-09b6-4c3f-a409-55ea86c0a67c",
   "metadata": {},
   "source": [
    "First, we will drop variables that we consider not relevant for the smoke region."
   ]
  },
  {
   "cell_type": "code",
   "execution_count": 46,
   "id": "e422a51d-5ff2-43e5-851b-85f7b53c2333",
   "metadata": {},
   "outputs": [],
   "source": [
    "smoke = smoke.loc[:, ['nbart_blue', 'nbart_green', 'nbart_red',\n",
    "       'nbart_nir', 'nbart_swir_2', 'nbart_swir_1', 'NDVI', 'MNDWI',\n",
    "                      'distance','distance_mask', 'tgt'] ]"
   ]
  },
  {
   "cell_type": "code",
   "execution_count": 47,
   "id": "93a49ec7-30a4-44e6-9429-46d45ac3806c",
   "metadata": {},
   "outputs": [],
   "source": [
    "smoke.reset_index(drop = True, inplace = True)"
   ]
  },
  {
   "cell_type": "markdown",
   "id": "30d092ea-f96b-4447-bc26-d3c21a6b3a5a",
   "metadata": {},
   "source": [
    "Split them into X and y"
   ]
  },
  {
   "cell_type": "code",
   "execution_count": 48,
   "id": "40c0430b-bcf1-4c26-bb79-460914b112ab",
   "metadata": {},
   "outputs": [],
   "source": [
    "X = smoke.iloc[:, :-1]\n",
    "y = smoke.iloc[:, -1:]"
   ]
  },
  {
   "cell_type": "code",
   "execution_count": 49,
   "id": "d34a11e9-f7df-4c41-8d46-02551cf9fe49",
   "metadata": {},
   "outputs": [],
   "source": [
    "from sklearn.preprocessing import PowerTransformer\n",
    "transformer = PowerTransformer()\n",
    "X = transformer.fit_transform(X)"
   ]
  },
  {
   "cell_type": "markdown",
   "id": "27499db5-856b-4975-8a35-6d7c94432da6",
   "metadata": {},
   "source": [
    "In addition, we would like to add quadratic and interaction terms"
   ]
  },
  {
   "cell_type": "code",
   "execution_count": 50,
   "id": "a23fe80f-1f00-4f6f-8f8d-a773a52b9793",
   "metadata": {},
   "outputs": [],
   "source": [
    "from sklearn.preprocessing import PolynomialFeatures\n",
    "polyfit = PolynomialFeatures(2)\n",
    "X = polyfit.fit_transform(X)\n",
    "clear_polynames = polyfit.get_feature_names(['nbart_blue', 'nbart_green', 'nbart_red',\n",
    "       'nbart_nir', 'nbart_swir_2', 'nbart_swir_1', 'NDVI', 'MNDWI',\n",
    "                      'distance','distance_mask'])"
   ]
  },
  {
   "cell_type": "code",
   "execution_count": 55,
   "id": "9c5bbf1c-248e-4f40-86b0-1c9b87557119",
   "metadata": {},
   "outputs": [],
   "source": [
    "pd.DataFrame({'smoke_polynames':clear_polynames}).to_csv('../test4/smoke_polyname.csv')"
   ]
  },
  {
   "cell_type": "code",
   "execution_count": 27,
   "id": "a852f649-3e30-4b03-8fe5-f640da0ebcac",
   "metadata": {},
   "outputs": [],
   "source": [
    "from sklearn.preprocessing import StandardScaler\n",
    "scaler = StandardScaler()\n",
    "X = scaler.fit_transform(X)"
   ]
  },
  {
   "cell_type": "code",
   "execution_count": 28,
   "id": "f415e809-be37-4f04-9ee0-20af006e8034",
   "metadata": {},
   "outputs": [],
   "source": [
    "X[:,0] =1"
   ]
  },
  {
   "cell_type": "code",
   "execution_count": 29,
   "id": "f0eedb6e-612e-4990-b96d-2dd0c65f2ec9",
   "metadata": {},
   "outputs": [
    {
     "data": {
      "text/plain": [
       "(327964, 66)"
      ]
     },
     "execution_count": 29,
     "metadata": {},
     "output_type": "execute_result"
    }
   ],
   "source": [
    "X.shape"
   ]
  },
  {
   "cell_type": "code",
   "execution_count": 30,
   "id": "903ee342-fbb1-4d1a-a7ba-40cb171e08fe",
   "metadata": {},
   "outputs": [
    {
     "data": {
      "text/plain": [
       "(327964, 1)"
      ]
     },
     "execution_count": 30,
     "metadata": {},
     "output_type": "execute_result"
    }
   ],
   "source": [
    "y.shape"
   ]
  },
  {
   "cell_type": "code",
   "execution_count": 31,
   "id": "50397e6f-3289-46e4-8a29-6ea72731754f",
   "metadata": {},
   "outputs": [],
   "source": [
    "data = pd.DataFrame(X)"
   ]
  },
  {
   "cell_type": "code",
   "execution_count": 32,
   "id": "a4d4fd9d-1401-4e37-9c19-165cf1cce3f7",
   "metadata": {},
   "outputs": [],
   "source": [
    "data['tgt']  = y"
   ]
  },
  {
   "cell_type": "code",
   "execution_count": 33,
   "id": "b76762b2-db9f-44e7-b320-aeb8a55886c4",
   "metadata": {},
   "outputs": [
    {
     "data": {
      "text/html": [
       "<div>\n",
       "<style scoped>\n",
       "    .dataframe tbody tr th:only-of-type {\n",
       "        vertical-align: middle;\n",
       "    }\n",
       "\n",
       "    .dataframe tbody tr th {\n",
       "        vertical-align: top;\n",
       "    }\n",
       "\n",
       "    .dataframe thead th {\n",
       "        text-align: right;\n",
       "    }\n",
       "</style>\n",
       "<table border=\"1\" class=\"dataframe\">\n",
       "  <thead>\n",
       "    <tr style=\"text-align: right;\">\n",
       "      <th></th>\n",
       "      <th>0</th>\n",
       "      <th>1</th>\n",
       "      <th>2</th>\n",
       "      <th>3</th>\n",
       "      <th>4</th>\n",
       "      <th>5</th>\n",
       "      <th>6</th>\n",
       "      <th>7</th>\n",
       "      <th>8</th>\n",
       "      <th>9</th>\n",
       "      <th>...</th>\n",
       "      <th>57</th>\n",
       "      <th>58</th>\n",
       "      <th>59</th>\n",
       "      <th>60</th>\n",
       "      <th>61</th>\n",
       "      <th>62</th>\n",
       "      <th>63</th>\n",
       "      <th>64</th>\n",
       "      <th>65</th>\n",
       "      <th>tgt</th>\n",
       "    </tr>\n",
       "  </thead>\n",
       "  <tbody>\n",
       "    <tr>\n",
       "      <th>300473</th>\n",
       "      <td>1.0</td>\n",
       "      <td>1.498725</td>\n",
       "      <td>1.060523</td>\n",
       "      <td>1.210638</td>\n",
       "      <td>-1.320587</td>\n",
       "      <td>1.419432</td>\n",
       "      <td>1.302348</td>\n",
       "      <td>-1.727412</td>\n",
       "      <td>-0.428051</td>\n",
       "      <td>-0.694177</td>\n",
       "      <td>...</td>\n",
       "      <td>0.779800</td>\n",
       "      <td>1.396220</td>\n",
       "      <td>0.535356</td>\n",
       "      <td>-0.608651</td>\n",
       "      <td>0.182271</td>\n",
       "      <td>0.078762</td>\n",
       "      <td>-0.402216</td>\n",
       "      <td>-0.409158</td>\n",
       "      <td>-0.717015</td>\n",
       "      <td>0</td>\n",
       "    </tr>\n",
       "    <tr>\n",
       "      <th>120080</th>\n",
       "      <td>1.0</td>\n",
       "      <td>0.280003</td>\n",
       "      <td>0.005642</td>\n",
       "      <td>0.172949</td>\n",
       "      <td>0.008445</td>\n",
       "      <td>-0.289652</td>\n",
       "      <td>-0.492706</td>\n",
       "      <td>-0.161699</td>\n",
       "      <td>1.124559</td>\n",
       "      <td>-0.822060</td>\n",
       "      <td>...</td>\n",
       "      <td>-0.166588</td>\n",
       "      <td>0.272994</td>\n",
       "      <td>-0.070499</td>\n",
       "      <td>0.197203</td>\n",
       "      <td>-1.083689</td>\n",
       "      <td>-0.077792</td>\n",
       "      <td>-0.251690</td>\n",
       "      <td>-0.614804</td>\n",
       "      <td>-0.806362</td>\n",
       "      <td>0</td>\n",
       "    </tr>\n",
       "    <tr>\n",
       "      <th>1911</th>\n",
       "      <td>1.0</td>\n",
       "      <td>1.022923</td>\n",
       "      <td>0.994523</td>\n",
       "      <td>0.934733</td>\n",
       "      <td>-0.082879</td>\n",
       "      <td>0.948562</td>\n",
       "      <td>0.390440</td>\n",
       "      <td>-0.915468</td>\n",
       "      <td>1.199162</td>\n",
       "      <td>1.910836</td>\n",
       "      <td>...</td>\n",
       "      <td>-1.107526</td>\n",
       "      <td>-1.709909</td>\n",
       "      <td>-0.890445</td>\n",
       "      <td>0.326386</td>\n",
       "      <td>2.248950</td>\n",
       "      <td>0.951437</td>\n",
       "      <td>2.058201</td>\n",
       "      <td>0.878056</td>\n",
       "      <td>-0.229977</td>\n",
       "      <td>0</td>\n",
       "    </tr>\n",
       "    <tr>\n",
       "      <th>284932</th>\n",
       "      <td>1.0</td>\n",
       "      <td>-0.596011</td>\n",
       "      <td>-0.076721</td>\n",
       "      <td>-0.038143</td>\n",
       "      <td>0.322309</td>\n",
       "      <td>0.124787</td>\n",
       "      <td>0.199697</td>\n",
       "      <td>0.230124</td>\n",
       "      <td>-0.986424</td>\n",
       "      <td>0.996676</td>\n",
       "      <td>...</td>\n",
       "      <td>-0.212980</td>\n",
       "      <td>0.374584</td>\n",
       "      <td>0.168725</td>\n",
       "      <td>-0.020097</td>\n",
       "      <td>-1.144509</td>\n",
       "      <td>-1.044496</td>\n",
       "      <td>-0.005153</td>\n",
       "      <td>0.295536</td>\n",
       "      <td>-0.012228</td>\n",
       "      <td>0</td>\n",
       "    </tr>\n",
       "    <tr>\n",
       "      <th>237830</th>\n",
       "      <td>1.0</td>\n",
       "      <td>1.142874</td>\n",
       "      <td>0.890726</td>\n",
       "      <td>0.812600</td>\n",
       "      <td>-0.054654</td>\n",
       "      <td>1.043259</td>\n",
       "      <td>1.157279</td>\n",
       "      <td>-0.812394</td>\n",
       "      <td>-0.679845</td>\n",
       "      <td>-1.135491</td>\n",
       "      <td>...</td>\n",
       "      <td>0.587577</td>\n",
       "      <td>1.104760</td>\n",
       "      <td>0.726069</td>\n",
       "      <td>-0.400771</td>\n",
       "      <td>0.674328</td>\n",
       "      <td>0.569481</td>\n",
       "      <td>0.224615</td>\n",
       "      <td>0.358160</td>\n",
       "      <td>-0.108383</td>\n",
       "      <td>0</td>\n",
       "    </tr>\n",
       "    <tr>\n",
       "      <th>...</th>\n",
       "      <td>...</td>\n",
       "      <td>...</td>\n",
       "      <td>...</td>\n",
       "      <td>...</td>\n",
       "      <td>...</td>\n",
       "      <td>...</td>\n",
       "      <td>...</td>\n",
       "      <td>...</td>\n",
       "      <td>...</td>\n",
       "      <td>...</td>\n",
       "      <td>...</td>\n",
       "      <td>...</td>\n",
       "      <td>...</td>\n",
       "      <td>...</td>\n",
       "      <td>...</td>\n",
       "      <td>...</td>\n",
       "      <td>...</td>\n",
       "      <td>...</td>\n",
       "      <td>...</td>\n",
       "      <td>...</td>\n",
       "      <td>...</td>\n",
       "    </tr>\n",
       "    <tr>\n",
       "      <th>176161</th>\n",
       "      <td>1.0</td>\n",
       "      <td>-1.301377</td>\n",
       "      <td>-1.265442</td>\n",
       "      <td>-1.477267</td>\n",
       "      <td>-0.350183</td>\n",
       "      <td>-0.502335</td>\n",
       "      <td>-0.501381</td>\n",
       "      <td>1.431169</td>\n",
       "      <td>-2.081047</td>\n",
       "      <td>-0.331706</td>\n",
       "      <td>...</td>\n",
       "      <td>-3.039352</td>\n",
       "      <td>-0.367159</td>\n",
       "      <td>-1.441470</td>\n",
       "      <td>2.482050</td>\n",
       "      <td>0.589701</td>\n",
       "      <td>1.822706</td>\n",
       "      <td>-0.690885</td>\n",
       "      <td>-0.344953</td>\n",
       "      <td>-0.145661</td>\n",
       "      <td>1</td>\n",
       "    </tr>\n",
       "    <tr>\n",
       "      <th>203080</th>\n",
       "      <td>1.0</td>\n",
       "      <td>-0.876029</td>\n",
       "      <td>-0.749522</td>\n",
       "      <td>-1.635149</td>\n",
       "      <td>1.731059</td>\n",
       "      <td>-0.907983</td>\n",
       "      <td>-0.656421</td>\n",
       "      <td>2.462578</td>\n",
       "      <td>-0.389750</td>\n",
       "      <td>-0.106512</td>\n",
       "      <td>...</td>\n",
       "      <td>-0.965756</td>\n",
       "      <td>-0.143363</td>\n",
       "      <td>-1.196585</td>\n",
       "      <td>-0.631992</td>\n",
       "      <td>-0.082642</td>\n",
       "      <td>0.104589</td>\n",
       "      <td>-0.767494</td>\n",
       "      <td>-0.581361</td>\n",
       "      <td>-0.656000</td>\n",
       "      <td>1</td>\n",
       "    </tr>\n",
       "    <tr>\n",
       "      <th>169734</th>\n",
       "      <td>1.0</td>\n",
       "      <td>-1.534228</td>\n",
       "      <td>-1.824756</td>\n",
       "      <td>-1.252747</td>\n",
       "      <td>-1.175787</td>\n",
       "      <td>-1.102309</td>\n",
       "      <td>-1.085951</td>\n",
       "      <td>0.520237</td>\n",
       "      <td>-1.245544</td>\n",
       "      <td>-0.847727</td>\n",
       "      <td>...</td>\n",
       "      <td>-0.645439</td>\n",
       "      <td>-0.331647</td>\n",
       "      <td>-0.068453</td>\n",
       "      <td>0.410882</td>\n",
       "      <td>0.968562</td>\n",
       "      <td>-0.073412</td>\n",
       "      <td>-0.218419</td>\n",
       "      <td>-0.630067</td>\n",
       "      <td>-0.806437</td>\n",
       "      <td>1</td>\n",
       "    </tr>\n",
       "    <tr>\n",
       "      <th>176167</th>\n",
       "      <td>1.0</td>\n",
       "      <td>-2.068570</td>\n",
       "      <td>-2.276553</td>\n",
       "      <td>-1.189835</td>\n",
       "      <td>-1.336825</td>\n",
       "      <td>-1.576225</td>\n",
       "      <td>-1.617192</td>\n",
       "      <td>0.550528</td>\n",
       "      <td>-1.144953</td>\n",
       "      <td>-0.559048</td>\n",
       "      <td>...</td>\n",
       "      <td>-0.627309</td>\n",
       "      <td>-0.191273</td>\n",
       "      <td>-0.037924</td>\n",
       "      <td>0.231694</td>\n",
       "      <td>0.537665</td>\n",
       "      <td>-0.132364</td>\n",
       "      <td>-0.533680</td>\n",
       "      <td>-0.655115</td>\n",
       "      <td>-0.803619</td>\n",
       "      <td>1</td>\n",
       "    </tr>\n",
       "    <tr>\n",
       "      <th>325230</th>\n",
       "      <td>1.0</td>\n",
       "      <td>0.758314</td>\n",
       "      <td>0.512162</td>\n",
       "      <td>0.623187</td>\n",
       "      <td>0.108917</td>\n",
       "      <td>0.679537</td>\n",
       "      <td>0.807846</td>\n",
       "      <td>-0.395581</td>\n",
       "      <td>-0.341802</td>\n",
       "      <td>-1.197100</td>\n",
       "      <td>...</td>\n",
       "      <td>0.159110</td>\n",
       "      <td>0.631835</td>\n",
       "      <td>0.515853</td>\n",
       "      <td>-0.658131</td>\n",
       "      <td>0.298367</td>\n",
       "      <td>0.417909</td>\n",
       "      <td>0.336175</td>\n",
       "      <td>0.942843</td>\n",
       "      <td>0.791843</td>\n",
       "      <td>1</td>\n",
       "    </tr>\n",
       "  </tbody>\n",
       "</table>\n",
       "<p>14000 rows × 67 columns</p>\n",
       "</div>"
      ],
      "text/plain": [
       "          0         1         2         3         4         5         6  \\\n",
       "300473  1.0  1.498725  1.060523  1.210638 -1.320587  1.419432  1.302348   \n",
       "120080  1.0  0.280003  0.005642  0.172949  0.008445 -0.289652 -0.492706   \n",
       "1911    1.0  1.022923  0.994523  0.934733 -0.082879  0.948562  0.390440   \n",
       "284932  1.0 -0.596011 -0.076721 -0.038143  0.322309  0.124787  0.199697   \n",
       "237830  1.0  1.142874  0.890726  0.812600 -0.054654  1.043259  1.157279   \n",
       "...     ...       ...       ...       ...       ...       ...       ...   \n",
       "176161  1.0 -1.301377 -1.265442 -1.477267 -0.350183 -0.502335 -0.501381   \n",
       "203080  1.0 -0.876029 -0.749522 -1.635149  1.731059 -0.907983 -0.656421   \n",
       "169734  1.0 -1.534228 -1.824756 -1.252747 -1.175787 -1.102309 -1.085951   \n",
       "176167  1.0 -2.068570 -2.276553 -1.189835 -1.336825 -1.576225 -1.617192   \n",
       "325230  1.0  0.758314  0.512162  0.623187  0.108917  0.679537  0.807846   \n",
       "\n",
       "               7         8         9  ...        57        58        59  \\\n",
       "300473 -1.727412 -0.428051 -0.694177  ...  0.779800  1.396220  0.535356   \n",
       "120080 -0.161699  1.124559 -0.822060  ... -0.166588  0.272994 -0.070499   \n",
       "1911   -0.915468  1.199162  1.910836  ... -1.107526 -1.709909 -0.890445   \n",
       "284932  0.230124 -0.986424  0.996676  ... -0.212980  0.374584  0.168725   \n",
       "237830 -0.812394 -0.679845 -1.135491  ...  0.587577  1.104760  0.726069   \n",
       "...          ...       ...       ...  ...       ...       ...       ...   \n",
       "176161  1.431169 -2.081047 -0.331706  ... -3.039352 -0.367159 -1.441470   \n",
       "203080  2.462578 -0.389750 -0.106512  ... -0.965756 -0.143363 -1.196585   \n",
       "169734  0.520237 -1.245544 -0.847727  ... -0.645439 -0.331647 -0.068453   \n",
       "176167  0.550528 -1.144953 -0.559048  ... -0.627309 -0.191273 -0.037924   \n",
       "325230 -0.395581 -0.341802 -1.197100  ...  0.159110  0.631835  0.515853   \n",
       "\n",
       "              60        61        62        63        64        65  tgt  \n",
       "300473 -0.608651  0.182271  0.078762 -0.402216 -0.409158 -0.717015    0  \n",
       "120080  0.197203 -1.083689 -0.077792 -0.251690 -0.614804 -0.806362    0  \n",
       "1911    0.326386  2.248950  0.951437  2.058201  0.878056 -0.229977    0  \n",
       "284932 -0.020097 -1.144509 -1.044496 -0.005153  0.295536 -0.012228    0  \n",
       "237830 -0.400771  0.674328  0.569481  0.224615  0.358160 -0.108383    0  \n",
       "...          ...       ...       ...       ...       ...       ...  ...  \n",
       "176161  2.482050  0.589701  1.822706 -0.690885 -0.344953 -0.145661    1  \n",
       "203080 -0.631992 -0.082642  0.104589 -0.767494 -0.581361 -0.656000    1  \n",
       "169734  0.410882  0.968562 -0.073412 -0.218419 -0.630067 -0.806437    1  \n",
       "176167  0.231694  0.537665 -0.132364 -0.533680 -0.655115 -0.803619    1  \n",
       "325230 -0.658131  0.298367  0.417909  0.336175  0.942843  0.791843    1  \n",
       "\n",
       "[14000 rows x 67 columns]"
      ]
     },
     "execution_count": 33,
     "metadata": {},
     "output_type": "execute_result"
    }
   ],
   "source": [
    "data.groupby('tgt').sample(n = 7000)"
   ]
  },
  {
   "cell_type": "markdown",
   "id": "b23e23b4-d26f-40be-835a-34fd10dea651",
   "metadata": {},
   "source": [
    "## Step 4. Create data for no smoke area"
   ]
  },
  {
   "cell_type": "markdown",
   "id": "51f0f6c5-bd87-4c05-8229-0358d69f29a3",
   "metadata": {},
   "source": [
    "For the area where linescan values are greater than 0, we would like to keep the mask variables for now; they can be a good input variable for tree / forest methods."
   ]
  },
  {
   "cell_type": "markdown",
   "id": "03b1afbb-01f3-4590-a8c6-e9cbcb3dece1",
   "metadata": {},
   "source": [
    "However, we also want to create the two new variables for them as well."
   ]
  },
  {
   "cell_type": "code",
   "execution_count": 34,
   "id": "d6dc320b-306c-4c36-a0fc-d13907530f61",
   "metadata": {},
   "outputs": [],
   "source": [
    "nosmoke.reset_index(drop = True, inplace= True)"
   ]
  },
  {
   "cell_type": "code",
   "execution_count": 35,
   "id": "4f96139d-6369-4f9d-967d-acbd11a1fbed",
   "metadata": {
    "tags": []
   },
   "outputs": [],
   "source": [
    "knt.fit(linescan_gt200)\n",
    "distance = knt.kneighbors(nosmoke[['x','y']])[0].reshape(-1)\n",
    "nosmoke['distance']  = distance\n",
    "\n",
    "knt.fit(mask_positive)\n",
    "distance_mask = knt.kneighbors(nosmoke[['x','y']])[0].reshape(-1)\n",
    "nosmoke['distance_mask'] = distance_mask"
   ]
  },
  {
   "cell_type": "markdown",
   "id": "1bc167e6-44ce-4874-9eda-0eb953a239c9",
   "metadata": {},
   "source": [
    "For this dataset, since we keep the categorical variables and we don't want to transform and standardize them, we want to separate those columns"
   ]
  },
  {
   "cell_type": "code",
   "execution_count": 36,
   "id": "3b90492d-eea9-4b6b-ad71-6903599ddbc6",
   "metadata": {},
   "outputs": [],
   "source": [
    "y = nosmoke['tgt']\n",
    "X_quant = nosmoke.loc[:, ['linescan', 'nbart_blue', 'nbart_green', 'nbart_red',\n",
    "       'nbart_nir', 'nbart_swir_2', 'nbart_swir_1', 'NDVI', 'MNDWI',\n",
    "                          'distance','distance_mask']]\n",
    "X_category = nosmoke.loc[:,['maskOpen_0', 'maskClose_0', 'maskOpen_1', 'maskClose_1', 'maskOpen_2',\n",
    "       'maskClose_2', 'maskOpen_3', 'maskClose_3', 'maskOpen_4', 'maskClose_4',\n",
    "       'maskOpen_5', 'maskClose_5', 'maskOpen_6', 'maskClose_6', 'maskOpen_7',\n",
    "       'maskClose_7', 'maskOpen_8', 'maskClose_8', 'maskOpen_9', 'maskClose_9',\n",
    "       'maskOpen_10', 'maskClose_10', 'maskOpen_11', 'maskClose_11',\n",
    "       'maskOpen_12', 'maskClose_12', 'maskOpen_13', 'maskClose_13',\n",
    "       'maskOpen_14', 'maskClose_14', 'maskOpen_15', 'maskClose_15',\n",
    "       'maskOpen_16', 'maskClose_16', 'maskOpen_17', 'maskClose_17',\n",
    "       'maskOpen_18', 'maskClose_18', 'maskOpen_19', 'maskClose_19',\n",
    "       'maskOpen_20', 'maskClose_20', 'maskOpen_21', 'maskClose_21',\n",
    "       'maskOpen_22', 'maskClose_22', 'maskOpen_23', 'maskClose_23',\n",
    "       'maskOpen_24', 'maskClose_24']]"
   ]
  },
  {
   "cell_type": "code",
   "execution_count": 37,
   "id": "359a3b0d-a968-4e58-8960-35b90509b4d4",
   "metadata": {},
   "outputs": [],
   "source": [
    "from sklearn.preprocessing import PowerTransformer\n",
    "transformer = PowerTransformer()\n",
    "X_quant = transformer.fit_transform(X_quant)\n",
    "from sklearn.preprocessing import PolynomialFeatures\n",
    "polyfit = PolynomialFeatures(2)\n",
    "X_quant = polyfit.fit_transform(X_quant)\n",
    "polynames = polyfit.get_feature_names(['linescan', 'nbart_blue', 'nbart_green', 'nbart_red',\n",
    "       'nbart_nir', 'nbart_swir_2', 'nbart_swir_1', 'NDVI', 'MNDWI',\n",
    "                          'distance','distance_mask'])\n",
    "from sklearn.preprocessing import StandardScaler\n",
    "scaler = StandardScaler()\n",
    "X_quant = scaler.fit_transform(X_quant)"
   ]
  },
  {
   "cell_type": "code",
   "execution_count": 58,
   "id": "ac788853-83a9-43f4-ad5d-36a708832904",
   "metadata": {},
   "outputs": [],
   "source": [
    "pd.DataFrame({'clean_polyname': polynames}).to_csv('../test4/clean_polyname.csv')"
   ]
  },
  {
   "cell_type": "code",
   "execution_count": 38,
   "id": "d018e1fb-2a46-4f36-9644-35c5bb613e5b",
   "metadata": {},
   "outputs": [],
   "source": [
    "X_quant[:,0] =1"
   ]
  },
  {
   "cell_type": "code",
   "execution_count": 39,
   "id": "a1f3f5ec-31e3-4d5b-a069-83f326d71040",
   "metadata": {},
   "outputs": [
    {
     "data": {
      "text/plain": [
       "(2261267, 78)"
      ]
     },
     "execution_count": 39,
     "metadata": {},
     "output_type": "execute_result"
    }
   ],
   "source": [
    "X_quant.shape"
   ]
  },
  {
   "cell_type": "code",
   "execution_count": 40,
   "id": "344149d7-0e4a-4309-95f7-02eb7649da89",
   "metadata": {},
   "outputs": [],
   "source": [
    "data = pd.DataFrame(np.append(X_quant, X_category.to_numpy(), axis = 1))"
   ]
  },
  {
   "cell_type": "code",
   "execution_count": 41,
   "id": "70917756-4068-4366-8a7f-85ef22526538",
   "metadata": {},
   "outputs": [],
   "source": [
    "data['tgt'] = y"
   ]
  },
  {
   "cell_type": "code",
   "execution_count": 42,
   "id": "83be4dab-3fd0-49ca-9e2e-26a315da0cf9",
   "metadata": {},
   "outputs": [],
   "source": [
    "data = data.groupby('tgt').sample(7000).reset_index(drop = True)"
   ]
  },
  {
   "cell_type": "code",
   "execution_count": 43,
   "id": "57d08f76-46c3-4108-8b4b-36b62607d5d5",
   "metadata": {},
   "outputs": [
    {
     "data": {
      "text/html": [
       "<div>\n",
       "<style scoped>\n",
       "    .dataframe tbody tr th:only-of-type {\n",
       "        vertical-align: middle;\n",
       "    }\n",
       "\n",
       "    .dataframe tbody tr th {\n",
       "        vertical-align: top;\n",
       "    }\n",
       "\n",
       "    .dataframe thead th {\n",
       "        text-align: right;\n",
       "    }\n",
       "</style>\n",
       "<table border=\"1\" class=\"dataframe\">\n",
       "  <thead>\n",
       "    <tr style=\"text-align: right;\">\n",
       "      <th></th>\n",
       "      <th>0</th>\n",
       "      <th>1</th>\n",
       "      <th>2</th>\n",
       "      <th>3</th>\n",
       "      <th>4</th>\n",
       "      <th>5</th>\n",
       "      <th>6</th>\n",
       "      <th>7</th>\n",
       "      <th>8</th>\n",
       "      <th>9</th>\n",
       "      <th>...</th>\n",
       "      <th>119</th>\n",
       "      <th>120</th>\n",
       "      <th>121</th>\n",
       "      <th>122</th>\n",
       "      <th>123</th>\n",
       "      <th>124</th>\n",
       "      <th>125</th>\n",
       "      <th>126</th>\n",
       "      <th>127</th>\n",
       "      <th>tgt</th>\n",
       "    </tr>\n",
       "  </thead>\n",
       "  <tbody>\n",
       "    <tr>\n",
       "      <th>0</th>\n",
       "      <td>1.0</td>\n",
       "      <td>0.129856</td>\n",
       "      <td>-0.317313</td>\n",
       "      <td>-0.278910</td>\n",
       "      <td>-0.700878</td>\n",
       "      <td>-0.017816</td>\n",
       "      <td>-0.532853</td>\n",
       "      <td>-0.172385</td>\n",
       "      <td>0.562777</td>\n",
       "      <td>-0.019345</td>\n",
       "      <td>...</td>\n",
       "      <td>0.0</td>\n",
       "      <td>0.0</td>\n",
       "      <td>0.0</td>\n",
       "      <td>0.0</td>\n",
       "      <td>0.0</td>\n",
       "      <td>0.0</td>\n",
       "      <td>0.0</td>\n",
       "      <td>0.0</td>\n",
       "      <td>0.0</td>\n",
       "      <td>0</td>\n",
       "    </tr>\n",
       "    <tr>\n",
       "      <th>1</th>\n",
       "      <td>1.0</td>\n",
       "      <td>-2.005344</td>\n",
       "      <td>-1.812397</td>\n",
       "      <td>-1.445355</td>\n",
       "      <td>-1.915251</td>\n",
       "      <td>0.031848</td>\n",
       "      <td>-1.520942</td>\n",
       "      <td>-1.381360</td>\n",
       "      <td>1.648887</td>\n",
       "      <td>0.225703</td>\n",
       "      <td>...</td>\n",
       "      <td>0.0</td>\n",
       "      <td>0.0</td>\n",
       "      <td>0.0</td>\n",
       "      <td>0.0</td>\n",
       "      <td>0.0</td>\n",
       "      <td>0.0</td>\n",
       "      <td>0.0</td>\n",
       "      <td>0.0</td>\n",
       "      <td>0.0</td>\n",
       "      <td>0</td>\n",
       "    </tr>\n",
       "    <tr>\n",
       "      <th>2</th>\n",
       "      <td>1.0</td>\n",
       "      <td>-0.279292</td>\n",
       "      <td>1.075119</td>\n",
       "      <td>0.811694</td>\n",
       "      <td>-0.192983</td>\n",
       "      <td>0.927496</td>\n",
       "      <td>-0.222191</td>\n",
       "      <td>-0.000644</td>\n",
       "      <td>0.585840</td>\n",
       "      <td>2.053889</td>\n",
       "      <td>...</td>\n",
       "      <td>0.0</td>\n",
       "      <td>0.0</td>\n",
       "      <td>0.0</td>\n",
       "      <td>0.0</td>\n",
       "      <td>0.0</td>\n",
       "      <td>0.0</td>\n",
       "      <td>0.0</td>\n",
       "      <td>0.0</td>\n",
       "      <td>0.0</td>\n",
       "      <td>0</td>\n",
       "    </tr>\n",
       "    <tr>\n",
       "      <th>3</th>\n",
       "      <td>1.0</td>\n",
       "      <td>0.605797</td>\n",
       "      <td>1.488465</td>\n",
       "      <td>1.880136</td>\n",
       "      <td>1.583652</td>\n",
       "      <td>0.079059</td>\n",
       "      <td>2.052542</td>\n",
       "      <td>2.317544</td>\n",
       "      <td>-1.489241</td>\n",
       "      <td>-1.818395</td>\n",
       "      <td>...</td>\n",
       "      <td>0.0</td>\n",
       "      <td>0.0</td>\n",
       "      <td>0.0</td>\n",
       "      <td>0.0</td>\n",
       "      <td>0.0</td>\n",
       "      <td>0.0</td>\n",
       "      <td>0.0</td>\n",
       "      <td>0.0</td>\n",
       "      <td>0.0</td>\n",
       "      <td>0</td>\n",
       "    </tr>\n",
       "    <tr>\n",
       "      <th>4</th>\n",
       "      <td>1.0</td>\n",
       "      <td>-2.176503</td>\n",
       "      <td>-0.317313</td>\n",
       "      <td>0.523349</td>\n",
       "      <td>1.004753</td>\n",
       "      <td>1.246966</td>\n",
       "      <td>0.680804</td>\n",
       "      <td>0.610495</td>\n",
       "      <td>-0.308682</td>\n",
       "      <td>0.108501</td>\n",
       "      <td>...</td>\n",
       "      <td>0.0</td>\n",
       "      <td>0.0</td>\n",
       "      <td>0.0</td>\n",
       "      <td>0.0</td>\n",
       "      <td>0.0</td>\n",
       "      <td>0.0</td>\n",
       "      <td>0.0</td>\n",
       "      <td>0.0</td>\n",
       "      <td>0.0</td>\n",
       "      <td>0</td>\n",
       "    </tr>\n",
       "    <tr>\n",
       "      <th>...</th>\n",
       "      <td>...</td>\n",
       "      <td>...</td>\n",
       "      <td>...</td>\n",
       "      <td>...</td>\n",
       "      <td>...</td>\n",
       "      <td>...</td>\n",
       "      <td>...</td>\n",
       "      <td>...</td>\n",
       "      <td>...</td>\n",
       "      <td>...</td>\n",
       "      <td>...</td>\n",
       "      <td>...</td>\n",
       "      <td>...</td>\n",
       "      <td>...</td>\n",
       "      <td>...</td>\n",
       "      <td>...</td>\n",
       "      <td>...</td>\n",
       "      <td>...</td>\n",
       "      <td>...</td>\n",
       "      <td>...</td>\n",
       "      <td>...</td>\n",
       "    </tr>\n",
       "    <tr>\n",
       "      <th>13995</th>\n",
       "      <td>1.0</td>\n",
       "      <td>-0.734373</td>\n",
       "      <td>-0.857147</td>\n",
       "      <td>-0.670173</td>\n",
       "      <td>-0.407274</td>\n",
       "      <td>0.123858</td>\n",
       "      <td>-0.357531</td>\n",
       "      <td>-0.406345</td>\n",
       "      <td>0.406082</td>\n",
       "      <td>-0.433827</td>\n",
       "      <td>...</td>\n",
       "      <td>0.0</td>\n",
       "      <td>0.0</td>\n",
       "      <td>0.0</td>\n",
       "      <td>0.0</td>\n",
       "      <td>0.0</td>\n",
       "      <td>0.0</td>\n",
       "      <td>0.0</td>\n",
       "      <td>0.0</td>\n",
       "      <td>0.0</td>\n",
       "      <td>1</td>\n",
       "    </tr>\n",
       "    <tr>\n",
       "      <th>13996</th>\n",
       "      <td>1.0</td>\n",
       "      <td>1.334555</td>\n",
       "      <td>0.608882</td>\n",
       "      <td>-0.259632</td>\n",
       "      <td>0.010315</td>\n",
       "      <td>-1.285381</td>\n",
       "      <td>-0.092674</td>\n",
       "      <td>-0.251950</td>\n",
       "      <td>-0.744765</td>\n",
       "      <td>0.329706</td>\n",
       "      <td>...</td>\n",
       "      <td>255.0</td>\n",
       "      <td>255.0</td>\n",
       "      <td>255.0</td>\n",
       "      <td>255.0</td>\n",
       "      <td>255.0</td>\n",
       "      <td>255.0</td>\n",
       "      <td>255.0</td>\n",
       "      <td>255.0</td>\n",
       "      <td>255.0</td>\n",
       "      <td>1</td>\n",
       "    </tr>\n",
       "    <tr>\n",
       "      <th>13997</th>\n",
       "      <td>1.0</td>\n",
       "      <td>-1.308237</td>\n",
       "      <td>-2.096032</td>\n",
       "      <td>-2.159314</td>\n",
       "      <td>-2.787270</td>\n",
       "      <td>0.189522</td>\n",
       "      <td>-2.399308</td>\n",
       "      <td>-2.047414</td>\n",
       "      <td>2.183812</td>\n",
       "      <td>0.550782</td>\n",
       "      <td>...</td>\n",
       "      <td>0.0</td>\n",
       "      <td>0.0</td>\n",
       "      <td>0.0</td>\n",
       "      <td>0.0</td>\n",
       "      <td>0.0</td>\n",
       "      <td>0.0</td>\n",
       "      <td>0.0</td>\n",
       "      <td>0.0</td>\n",
       "      <td>0.0</td>\n",
       "      <td>1</td>\n",
       "    </tr>\n",
       "    <tr>\n",
       "      <th>13998</th>\n",
       "      <td>1.0</td>\n",
       "      <td>-0.279292</td>\n",
       "      <td>-2.515970</td>\n",
       "      <td>-2.519401</td>\n",
       "      <td>-2.247462</td>\n",
       "      <td>0.271353</td>\n",
       "      <td>-2.102002</td>\n",
       "      <td>-1.921585</td>\n",
       "      <td>2.027704</td>\n",
       "      <td>-0.919271</td>\n",
       "      <td>...</td>\n",
       "      <td>0.0</td>\n",
       "      <td>0.0</td>\n",
       "      <td>0.0</td>\n",
       "      <td>0.0</td>\n",
       "      <td>0.0</td>\n",
       "      <td>0.0</td>\n",
       "      <td>0.0</td>\n",
       "      <td>0.0</td>\n",
       "      <td>0.0</td>\n",
       "      <td>1</td>\n",
       "    </tr>\n",
       "    <tr>\n",
       "      <th>13999</th>\n",
       "      <td>1.0</td>\n",
       "      <td>0.034354</td>\n",
       "      <td>-0.800695</td>\n",
       "      <td>-1.105204</td>\n",
       "      <td>-0.751975</td>\n",
       "      <td>0.059780</td>\n",
       "      <td>-0.972697</td>\n",
       "      <td>-1.061088</td>\n",
       "      <td>0.693514</td>\n",
       "      <td>0.025175</td>\n",
       "      <td>...</td>\n",
       "      <td>0.0</td>\n",
       "      <td>0.0</td>\n",
       "      <td>0.0</td>\n",
       "      <td>0.0</td>\n",
       "      <td>0.0</td>\n",
       "      <td>0.0</td>\n",
       "      <td>255.0</td>\n",
       "      <td>0.0</td>\n",
       "      <td>255.0</td>\n",
       "      <td>1</td>\n",
       "    </tr>\n",
       "  </tbody>\n",
       "</table>\n",
       "<p>14000 rows × 129 columns</p>\n",
       "</div>"
      ],
      "text/plain": [
       "         0         1         2         3         4         5         6  \\\n",
       "0      1.0  0.129856 -0.317313 -0.278910 -0.700878 -0.017816 -0.532853   \n",
       "1      1.0 -2.005344 -1.812397 -1.445355 -1.915251  0.031848 -1.520942   \n",
       "2      1.0 -0.279292  1.075119  0.811694 -0.192983  0.927496 -0.222191   \n",
       "3      1.0  0.605797  1.488465  1.880136  1.583652  0.079059  2.052542   \n",
       "4      1.0 -2.176503 -0.317313  0.523349  1.004753  1.246966  0.680804   \n",
       "...    ...       ...       ...       ...       ...       ...       ...   \n",
       "13995  1.0 -0.734373 -0.857147 -0.670173 -0.407274  0.123858 -0.357531   \n",
       "13996  1.0  1.334555  0.608882 -0.259632  0.010315 -1.285381 -0.092674   \n",
       "13997  1.0 -1.308237 -2.096032 -2.159314 -2.787270  0.189522 -2.399308   \n",
       "13998  1.0 -0.279292 -2.515970 -2.519401 -2.247462  0.271353 -2.102002   \n",
       "13999  1.0  0.034354 -0.800695 -1.105204 -0.751975  0.059780 -0.972697   \n",
       "\n",
       "              7         8         9  ...    119    120    121    122    123  \\\n",
       "0     -0.172385  0.562777 -0.019345  ...    0.0    0.0    0.0    0.0    0.0   \n",
       "1     -1.381360  1.648887  0.225703  ...    0.0    0.0    0.0    0.0    0.0   \n",
       "2     -0.000644  0.585840  2.053889  ...    0.0    0.0    0.0    0.0    0.0   \n",
       "3      2.317544 -1.489241 -1.818395  ...    0.0    0.0    0.0    0.0    0.0   \n",
       "4      0.610495 -0.308682  0.108501  ...    0.0    0.0    0.0    0.0    0.0   \n",
       "...         ...       ...       ...  ...    ...    ...    ...    ...    ...   \n",
       "13995 -0.406345  0.406082 -0.433827  ...    0.0    0.0    0.0    0.0    0.0   \n",
       "13996 -0.251950 -0.744765  0.329706  ...  255.0  255.0  255.0  255.0  255.0   \n",
       "13997 -2.047414  2.183812  0.550782  ...    0.0    0.0    0.0    0.0    0.0   \n",
       "13998 -1.921585  2.027704 -0.919271  ...    0.0    0.0    0.0    0.0    0.0   \n",
       "13999 -1.061088  0.693514  0.025175  ...    0.0    0.0    0.0    0.0    0.0   \n",
       "\n",
       "         124    125    126    127  tgt  \n",
       "0        0.0    0.0    0.0    0.0    0  \n",
       "1        0.0    0.0    0.0    0.0    0  \n",
       "2        0.0    0.0    0.0    0.0    0  \n",
       "3        0.0    0.0    0.0    0.0    0  \n",
       "4        0.0    0.0    0.0    0.0    0  \n",
       "...      ...    ...    ...    ...  ...  \n",
       "13995    0.0    0.0    0.0    0.0    1  \n",
       "13996  255.0  255.0  255.0  255.0    1  \n",
       "13997    0.0    0.0    0.0    0.0    1  \n",
       "13998    0.0    0.0    0.0    0.0    1  \n",
       "13999    0.0  255.0    0.0  255.0    1  \n",
       "\n",
       "[14000 rows x 129 columns]"
      ]
     },
     "execution_count": 43,
     "metadata": {},
     "output_type": "execute_result"
    }
   ],
   "source": [
    "data"
   ]
  }
 ],
 "metadata": {
  "kernelspec": {
   "display_name": "Python 3",
   "language": "python",
   "name": "python3"
  },
  "language_info": {
   "codemirror_mode": {
    "name": "ipython",
    "version": 3
   },
   "file_extension": ".py",
   "mimetype": "text/x-python",
   "name": "python",
   "nbconvert_exporter": "python",
   "pygments_lexer": "ipython3",
   "version": "3.8.8"
  }
 },
 "nbformat": 4,
 "nbformat_minor": 5
}
